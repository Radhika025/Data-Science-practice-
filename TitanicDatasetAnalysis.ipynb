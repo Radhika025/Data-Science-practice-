{
  "cells": [
    {
      "cell_type": "code",
      "execution_count": 109,
      "metadata": {
        "id": "Vh4W9XLjDLxR"
      },
      "outputs": [],
      "source": [
        "#This program predicts if a person will survive on the titanic"
      ]
    },
    {
      "cell_type": "code",
      "execution_count": 110,
      "metadata": {
        "id": "uPS7tGzGDZqh"
      },
      "outputs": [],
      "source": [
        "#import libraries\n",
        "import numpy as np\n",
        "import pandas as pd\n",
        "import seaborn as sns\n",
        "import matplotlib.pyplot as plt"
      ]
    },
    {
      "cell_type": "code",
      "execution_count": 111,
      "metadata": {
        "colab": {
          "base_uri": "https://localhost:8080/",
          "height": 363
        },
        "id": "s-hwuMCMDvyi",
        "outputId": "c6291ed6-db2f-41e1-be56-eb3f80ec93da"
      },
      "outputs": [
        {
          "data": {
            "text/html": [
              "<div>\n",
              "<style scoped>\n",
              "    .dataframe tbody tr th:only-of-type {\n",
              "        vertical-align: middle;\n",
              "    }\n",
              "\n",
              "    .dataframe tbody tr th {\n",
              "        vertical-align: top;\n",
              "    }\n",
              "\n",
              "    .dataframe thead th {\n",
              "        text-align: right;\n",
              "    }\n",
              "</style>\n",
              "<table border=\"1\" class=\"dataframe\">\n",
              "  <thead>\n",
              "    <tr style=\"text-align: right;\">\n",
              "      <th></th>\n",
              "      <th>survived</th>\n",
              "      <th>pclass</th>\n",
              "      <th>sex</th>\n",
              "      <th>age</th>\n",
              "      <th>sibsp</th>\n",
              "      <th>parch</th>\n",
              "      <th>fare</th>\n",
              "      <th>embarked</th>\n",
              "      <th>class</th>\n",
              "      <th>who</th>\n",
              "      <th>adult_male</th>\n",
              "      <th>deck</th>\n",
              "      <th>embark_town</th>\n",
              "      <th>alive</th>\n",
              "      <th>alone</th>\n",
              "    </tr>\n",
              "  </thead>\n",
              "  <tbody>\n",
              "    <tr>\n",
              "      <th>0</th>\n",
              "      <td>0</td>\n",
              "      <td>3</td>\n",
              "      <td>male</td>\n",
              "      <td>22.0</td>\n",
              "      <td>1</td>\n",
              "      <td>0</td>\n",
              "      <td>7.2500</td>\n",
              "      <td>S</td>\n",
              "      <td>Third</td>\n",
              "      <td>man</td>\n",
              "      <td>True</td>\n",
              "      <td>NaN</td>\n",
              "      <td>Southampton</td>\n",
              "      <td>no</td>\n",
              "      <td>False</td>\n",
              "    </tr>\n",
              "    <tr>\n",
              "      <th>1</th>\n",
              "      <td>1</td>\n",
              "      <td>1</td>\n",
              "      <td>female</td>\n",
              "      <td>38.0</td>\n",
              "      <td>1</td>\n",
              "      <td>0</td>\n",
              "      <td>71.2833</td>\n",
              "      <td>C</td>\n",
              "      <td>First</td>\n",
              "      <td>woman</td>\n",
              "      <td>False</td>\n",
              "      <td>C</td>\n",
              "      <td>Cherbourg</td>\n",
              "      <td>yes</td>\n",
              "      <td>False</td>\n",
              "    </tr>\n",
              "    <tr>\n",
              "      <th>2</th>\n",
              "      <td>1</td>\n",
              "      <td>3</td>\n",
              "      <td>female</td>\n",
              "      <td>26.0</td>\n",
              "      <td>0</td>\n",
              "      <td>0</td>\n",
              "      <td>7.9250</td>\n",
              "      <td>S</td>\n",
              "      <td>Third</td>\n",
              "      <td>woman</td>\n",
              "      <td>False</td>\n",
              "      <td>NaN</td>\n",
              "      <td>Southampton</td>\n",
              "      <td>yes</td>\n",
              "      <td>True</td>\n",
              "    </tr>\n",
              "    <tr>\n",
              "      <th>3</th>\n",
              "      <td>1</td>\n",
              "      <td>1</td>\n",
              "      <td>female</td>\n",
              "      <td>35.0</td>\n",
              "      <td>1</td>\n",
              "      <td>0</td>\n",
              "      <td>53.1000</td>\n",
              "      <td>S</td>\n",
              "      <td>First</td>\n",
              "      <td>woman</td>\n",
              "      <td>False</td>\n",
              "      <td>C</td>\n",
              "      <td>Southampton</td>\n",
              "      <td>yes</td>\n",
              "      <td>False</td>\n",
              "    </tr>\n",
              "    <tr>\n",
              "      <th>4</th>\n",
              "      <td>0</td>\n",
              "      <td>3</td>\n",
              "      <td>male</td>\n",
              "      <td>35.0</td>\n",
              "      <td>0</td>\n",
              "      <td>0</td>\n",
              "      <td>8.0500</td>\n",
              "      <td>S</td>\n",
              "      <td>Third</td>\n",
              "      <td>man</td>\n",
              "      <td>True</td>\n",
              "      <td>NaN</td>\n",
              "      <td>Southampton</td>\n",
              "      <td>no</td>\n",
              "      <td>True</td>\n",
              "    </tr>\n",
              "    <tr>\n",
              "      <th>5</th>\n",
              "      <td>0</td>\n",
              "      <td>3</td>\n",
              "      <td>male</td>\n",
              "      <td>NaN</td>\n",
              "      <td>0</td>\n",
              "      <td>0</td>\n",
              "      <td>8.4583</td>\n",
              "      <td>Q</td>\n",
              "      <td>Third</td>\n",
              "      <td>man</td>\n",
              "      <td>True</td>\n",
              "      <td>NaN</td>\n",
              "      <td>Queenstown</td>\n",
              "      <td>no</td>\n",
              "      <td>True</td>\n",
              "    </tr>\n",
              "    <tr>\n",
              "      <th>6</th>\n",
              "      <td>0</td>\n",
              "      <td>1</td>\n",
              "      <td>male</td>\n",
              "      <td>54.0</td>\n",
              "      <td>0</td>\n",
              "      <td>0</td>\n",
              "      <td>51.8625</td>\n",
              "      <td>S</td>\n",
              "      <td>First</td>\n",
              "      <td>man</td>\n",
              "      <td>True</td>\n",
              "      <td>E</td>\n",
              "      <td>Southampton</td>\n",
              "      <td>no</td>\n",
              "      <td>True</td>\n",
              "    </tr>\n",
              "    <tr>\n",
              "      <th>7</th>\n",
              "      <td>0</td>\n",
              "      <td>3</td>\n",
              "      <td>male</td>\n",
              "      <td>2.0</td>\n",
              "      <td>3</td>\n",
              "      <td>1</td>\n",
              "      <td>21.0750</td>\n",
              "      <td>S</td>\n",
              "      <td>Third</td>\n",
              "      <td>child</td>\n",
              "      <td>False</td>\n",
              "      <td>NaN</td>\n",
              "      <td>Southampton</td>\n",
              "      <td>no</td>\n",
              "      <td>False</td>\n",
              "    </tr>\n",
              "    <tr>\n",
              "      <th>8</th>\n",
              "      <td>1</td>\n",
              "      <td>3</td>\n",
              "      <td>female</td>\n",
              "      <td>27.0</td>\n",
              "      <td>0</td>\n",
              "      <td>2</td>\n",
              "      <td>11.1333</td>\n",
              "      <td>S</td>\n",
              "      <td>Third</td>\n",
              "      <td>woman</td>\n",
              "      <td>False</td>\n",
              "      <td>NaN</td>\n",
              "      <td>Southampton</td>\n",
              "      <td>yes</td>\n",
              "      <td>False</td>\n",
              "    </tr>\n",
              "    <tr>\n",
              "      <th>9</th>\n",
              "      <td>1</td>\n",
              "      <td>2</td>\n",
              "      <td>female</td>\n",
              "      <td>14.0</td>\n",
              "      <td>1</td>\n",
              "      <td>0</td>\n",
              "      <td>30.0708</td>\n",
              "      <td>C</td>\n",
              "      <td>Second</td>\n",
              "      <td>child</td>\n",
              "      <td>False</td>\n",
              "      <td>NaN</td>\n",
              "      <td>Cherbourg</td>\n",
              "      <td>yes</td>\n",
              "      <td>False</td>\n",
              "    </tr>\n",
              "  </tbody>\n",
              "</table>\n",
              "</div>"
            ],
            "text/plain": [
              "   survived  pclass     sex   age  sibsp  parch     fare embarked   class  \\\n",
              "0         0       3    male  22.0      1      0   7.2500        S   Third   \n",
              "1         1       1  female  38.0      1      0  71.2833        C   First   \n",
              "2         1       3  female  26.0      0      0   7.9250        S   Third   \n",
              "3         1       1  female  35.0      1      0  53.1000        S   First   \n",
              "4         0       3    male  35.0      0      0   8.0500        S   Third   \n",
              "5         0       3    male   NaN      0      0   8.4583        Q   Third   \n",
              "6         0       1    male  54.0      0      0  51.8625        S   First   \n",
              "7         0       3    male   2.0      3      1  21.0750        S   Third   \n",
              "8         1       3  female  27.0      0      2  11.1333        S   Third   \n",
              "9         1       2  female  14.0      1      0  30.0708        C  Second   \n",
              "\n",
              "     who  adult_male deck  embark_town alive  alone  \n",
              "0    man        True  NaN  Southampton    no  False  \n",
              "1  woman       False    C    Cherbourg   yes  False  \n",
              "2  woman       False  NaN  Southampton   yes   True  \n",
              "3  woman       False    C  Southampton   yes  False  \n",
              "4    man        True  NaN  Southampton    no   True  \n",
              "5    man        True  NaN   Queenstown    no   True  \n",
              "6    man        True    E  Southampton    no   True  \n",
              "7  child       False  NaN  Southampton    no  False  \n",
              "8  woman       False  NaN  Southampton   yes  False  \n",
              "9  child       False  NaN    Cherbourg   yes  False  "
            ]
          },
          "execution_count": 111,
          "metadata": {},
          "output_type": "execute_result"
        }
      ],
      "source": [
        "#load the data\n",
        "titanic = sns.load_dataset('titanic')\n",
        "\n",
        "#print first 10 rows of the dataset\n",
        "titanic.head(10)"
      ]
    },
    {
      "cell_type": "code",
      "execution_count": 112,
      "metadata": {
        "colab": {
          "base_uri": "https://localhost:8080/"
        },
        "id": "aWxTtoZ7Eb5_",
        "outputId": "d0efed3d-c67d-44d0-c44f-e5809ac74a0c"
      },
      "outputs": [
        {
          "data": {
            "text/plain": [
              "(891, 15)"
            ]
          },
          "execution_count": 112,
          "metadata": {},
          "output_type": "execute_result"
        }
      ],
      "source": [
        "#count the number of rows and columns\n",
        "titanic.shape"
      ]
    },
    {
      "cell_type": "code",
      "execution_count": 113,
      "metadata": {
        "colab": {
          "base_uri": "https://localhost:8080/",
          "height": 300
        },
        "id": "_XaJaJHmEqzR",
        "outputId": "2bf8b604-c8e1-4082-8401-a6f845ea97fa"
      },
      "outputs": [
        {
          "data": {
            "text/html": [
              "<div>\n",
              "<style scoped>\n",
              "    .dataframe tbody tr th:only-of-type {\n",
              "        vertical-align: middle;\n",
              "    }\n",
              "\n",
              "    .dataframe tbody tr th {\n",
              "        vertical-align: top;\n",
              "    }\n",
              "\n",
              "    .dataframe thead th {\n",
              "        text-align: right;\n",
              "    }\n",
              "</style>\n",
              "<table border=\"1\" class=\"dataframe\">\n",
              "  <thead>\n",
              "    <tr style=\"text-align: right;\">\n",
              "      <th></th>\n",
              "      <th>survived</th>\n",
              "      <th>pclass</th>\n",
              "      <th>age</th>\n",
              "      <th>sibsp</th>\n",
              "      <th>parch</th>\n",
              "      <th>fare</th>\n",
              "    </tr>\n",
              "  </thead>\n",
              "  <tbody>\n",
              "    <tr>\n",
              "      <th>count</th>\n",
              "      <td>891.000000</td>\n",
              "      <td>891.000000</td>\n",
              "      <td>714.000000</td>\n",
              "      <td>891.000000</td>\n",
              "      <td>891.000000</td>\n",
              "      <td>891.000000</td>\n",
              "    </tr>\n",
              "    <tr>\n",
              "      <th>mean</th>\n",
              "      <td>0.383838</td>\n",
              "      <td>2.308642</td>\n",
              "      <td>29.699118</td>\n",
              "      <td>0.523008</td>\n",
              "      <td>0.381594</td>\n",
              "      <td>32.204208</td>\n",
              "    </tr>\n",
              "    <tr>\n",
              "      <th>std</th>\n",
              "      <td>0.486592</td>\n",
              "      <td>0.836071</td>\n",
              "      <td>14.526497</td>\n",
              "      <td>1.102743</td>\n",
              "      <td>0.806057</td>\n",
              "      <td>49.693429</td>\n",
              "    </tr>\n",
              "    <tr>\n",
              "      <th>min</th>\n",
              "      <td>0.000000</td>\n",
              "      <td>1.000000</td>\n",
              "      <td>0.420000</td>\n",
              "      <td>0.000000</td>\n",
              "      <td>0.000000</td>\n",
              "      <td>0.000000</td>\n",
              "    </tr>\n",
              "    <tr>\n",
              "      <th>25%</th>\n",
              "      <td>0.000000</td>\n",
              "      <td>2.000000</td>\n",
              "      <td>20.125000</td>\n",
              "      <td>0.000000</td>\n",
              "      <td>0.000000</td>\n",
              "      <td>7.910400</td>\n",
              "    </tr>\n",
              "    <tr>\n",
              "      <th>50%</th>\n",
              "      <td>0.000000</td>\n",
              "      <td>3.000000</td>\n",
              "      <td>28.000000</td>\n",
              "      <td>0.000000</td>\n",
              "      <td>0.000000</td>\n",
              "      <td>14.454200</td>\n",
              "    </tr>\n",
              "    <tr>\n",
              "      <th>75%</th>\n",
              "      <td>1.000000</td>\n",
              "      <td>3.000000</td>\n",
              "      <td>38.000000</td>\n",
              "      <td>1.000000</td>\n",
              "      <td>0.000000</td>\n",
              "      <td>31.000000</td>\n",
              "    </tr>\n",
              "    <tr>\n",
              "      <th>max</th>\n",
              "      <td>1.000000</td>\n",
              "      <td>3.000000</td>\n",
              "      <td>80.000000</td>\n",
              "      <td>8.000000</td>\n",
              "      <td>6.000000</td>\n",
              "      <td>512.329200</td>\n",
              "    </tr>\n",
              "  </tbody>\n",
              "</table>\n",
              "</div>"
            ],
            "text/plain": [
              "         survived      pclass         age       sibsp       parch        fare\n",
              "count  891.000000  891.000000  714.000000  891.000000  891.000000  891.000000\n",
              "mean     0.383838    2.308642   29.699118    0.523008    0.381594   32.204208\n",
              "std      0.486592    0.836071   14.526497    1.102743    0.806057   49.693429\n",
              "min      0.000000    1.000000    0.420000    0.000000    0.000000    0.000000\n",
              "25%      0.000000    2.000000   20.125000    0.000000    0.000000    7.910400\n",
              "50%      0.000000    3.000000   28.000000    0.000000    0.000000   14.454200\n",
              "75%      1.000000    3.000000   38.000000    1.000000    0.000000   31.000000\n",
              "max      1.000000    3.000000   80.000000    8.000000    6.000000  512.329200"
            ]
          },
          "execution_count": 113,
          "metadata": {},
          "output_type": "execute_result"
        }
      ],
      "source": [
        "#get some statistics\n",
        "titanic.describe()"
      ]
    },
    {
      "cell_type": "code",
      "execution_count": 114,
      "metadata": {
        "colab": {
          "base_uri": "https://localhost:8080/"
        },
        "id": "FTE1z9w7E66p",
        "outputId": "d58b567c-bdf9-4fbc-e202-52924400b1e3"
      },
      "outputs": [
        {
          "data": {
            "text/plain": [
              "0    549\n",
              "1    342\n",
              "Name: survived, dtype: int64"
            ]
          },
          "execution_count": 114,
          "metadata": {},
          "output_type": "execute_result"
        }
      ],
      "source": [
        "#get a count of number of survivors\n",
        "titanic['survived'].value_counts()"
      ]
    },
    {
      "cell_type": "code",
      "execution_count": 115,
      "metadata": {
        "colab": {
          "base_uri": "https://localhost:8080/",
          "height": 351
        },
        "id": "1EPxgnQrFWZ5",
        "outputId": "0720b54b-5b3d-4c44-93a1-8b3d606e89d7"
      },
      "outputs": [
        {
          "name": "stderr",
          "output_type": "stream",
          "text": [
            "C:\\Users\\Radhika\\AppData\\Local\\Programs\\Python\\Python310\\lib\\site-packages\\seaborn\\_decorators.py:36: FutureWarning: Pass the following variable as a keyword arg: x. From version 0.12, the only valid positional argument will be `data`, and passing other arguments without an explicit keyword will result in an error or misinterpretation.\n",
            "  warnings.warn(\n"
          ]
        },
        {
          "data": {
            "text/plain": [
              "<AxesSubplot:xlabel='survived', ylabel='count'>"
            ]
          },
          "execution_count": 115,
          "metadata": {},
          "output_type": "execute_result"
        },
        {
          "data": {
            "image/png": "[encoded data removed]",
            "text/plain": [
              "<Figure size 432x288 with 1 Axes>"
            ]
          },
          "metadata": {
            "needs_background": "light"
          },
          "output_type": "display_data"
        }
      ],
      "source": [
        "#visualize the count of survivors\n",
        "sns.countplot(titanic['survived'])"
      ]
    },
    {
      "cell_type": "code",
      "execution_count": 116,
      "metadata": {
        "colab": {
          "base_uri": "https://localhost:8080/",
          "height": 886
        },
        "id": "ZeYU9XKdFkhm",
        "outputId": "d5cf9e41-5af9-4cb4-c531-a42d2d800ba0"
      },
      "outputs": [
        {
          "name": "stderr",
          "output_type": "stream",
          "text": [
            "C:\\Users\\Radhika\\AppData\\Local\\Programs\\Python\\Python310\\lib\\site-packages\\seaborn\\_decorators.py:36: FutureWarning: Pass the following variable as a keyword arg: x. From version 0.12, the only valid positional argument will be `data`, and passing other arguments without an explicit keyword will result in an error or misinterpretation.\n",
            "  warnings.warn(\n",
            "C:\\Users\\Radhika\\AppData\\Local\\Programs\\Python\\Python310\\lib\\site-packages\\seaborn\\_decorators.py:36: FutureWarning: Pass the following variable as a keyword arg: x. From version 0.12, the only valid positional argument will be `data`, and passing other arguments without an explicit keyword will result in an error or misinterpretation.\n",
            "  warnings.warn(\n",
            "C:\\Users\\Radhika\\AppData\\Local\\Programs\\Python\\Python310\\lib\\site-packages\\seaborn\\_decorators.py:36: FutureWarning: Pass the following variable as a keyword arg: x. From version 0.12, the only valid positional argument will be `data`, and passing other arguments without an explicit keyword will result in an error or misinterpretation.\n",
            "  warnings.warn(\n",
            "C:\\Users\\Radhika\\AppData\\Local\\Programs\\Python\\Python310\\lib\\site-packages\\seaborn\\_decorators.py:36: FutureWarning: Pass the following variable as a keyword arg: x. From version 0.12, the only valid positional argument will be `data`, and passing other arguments without an explicit keyword will result in an error or misinterpretation.\n",
            "  warnings.warn(\n",
            "C:\\Users\\Radhika\\AppData\\Local\\Programs\\Python\\Python310\\lib\\site-packages\\seaborn\\_decorators.py:36: FutureWarning: Pass the following variable as a keyword arg: x. From version 0.12, the only valid positional argument will be `data`, and passing other arguments without an explicit keyword will result in an error or misinterpretation.\n",
            "  warnings.warn(\n",
            "C:\\Users\\Radhika\\AppData\\Local\\Programs\\Python\\Python310\\lib\\site-packages\\seaborn\\_decorators.py:36: FutureWarning: Pass the following variable as a keyword arg: x. From version 0.12, the only valid positional argument will be `data`, and passing other arguments without an explicit keyword will result in an error or misinterpretation.\n",
            "  warnings.warn(\n"
          ]
        },
        {
          "data": {
            "image/png": "[encoded data removed]",
            "text/plain": [
              "<Figure size 864x648 with 6 Axes>"
            ]
          },
          "metadata": {
            "needs_background": "light"
          },
          "output_type": "display_data"
        }
      ],
      "source": [
        "#visualize the count of survivors for the columns 'who', 'sex', 'pclass', 'sibsp', 'parch', 'embarked'\n",
        "cols = ['who', 'sex', 'pclass', 'sibsp', 'parch', 'embarked']\n",
        "\n",
        "n_rows = 2\n",
        "n_cols = 3\n",
        "\n",
        "#the subplot grid and figure size of each graph\n",
        "fig, axs = plt.subplots(n_rows, n_cols, figsize = (n_rows*6, n_cols*3))\n",
        "\n",
        "for r in range(0, n_rows):\n",
        "  for c in range(0, n_cols):\n",
        "    i = r*n_cols + c #index to go through number of columns\n",
        "    ax = axs[r][c] #shows where to position each subplot\n",
        "    sns.countplot(titanic[cols[i]], hue = titanic['survived'], ax = ax)\n",
        "    ax.set_title(cols[i])\n",
        "    ax.legend(title = 'survived', loc = 'upper right')\n",
        "\n",
        "plt.tight_layout()"
      ]
    },
    {
      "cell_type": "code",
      "execution_count": 117,
      "metadata": {
        "colab": {
          "base_uri": "https://localhost:8080/"
        },
        "id": "OQTNnFlYPs3r",
        "outputId": "8df4d3b3-e52e-4d39-ba61-beb371e85146"
      },
      "outputs": [
        {
          "data": {
            "text/plain": [
              "sex\n",
              "female    0.742038\n",
              "male      0.188908\n",
              "Name: survived, dtype: float64"
            ]
          },
          "execution_count": 117,
          "metadata": {},
          "output_type": "execute_result"
        }
      ],
      "source": [
        "#look at survival rate by sex\n",
        "titanic.groupby('sex')['survived'].mean()"
      ]
    },
    {
      "cell_type": "code",
      "execution_count": 118,
      "metadata": {
        "colab": {
          "base_uri": "https://localhost:8080/",
          "height": 143
        },
        "id": "qM5A7s5jRApA",
        "outputId": "9fae6109-6d80-4aa4-cb66-f15370f1b9b4"
      },
      "outputs": [
        {
          "data": {
            "text/html": [
              "<div>\n",
              "<style scoped>\n",
              "    .dataframe tbody tr th:only-of-type {\n",
              "        vertical-align: middle;\n",
              "    }\n",
              "\n",
              "    .dataframe tbody tr th {\n",
              "        vertical-align: top;\n",
              "    }\n",
              "\n",
              "    .dataframe thead th {\n",
              "        text-align: right;\n",
              "    }\n",
              "</style>\n",
              "<table border=\"1\" class=\"dataframe\">\n",
              "  <thead>\n",
              "    <tr style=\"text-align: right;\">\n",
              "      <th>class</th>\n",
              "      <th>First</th>\n",
              "      <th>Second</th>\n",
              "      <th>Third</th>\n",
              "    </tr>\n",
              "    <tr>\n",
              "      <th>sex</th>\n",
              "      <th></th>\n",
              "      <th></th>\n",
              "      <th></th>\n",
              "    </tr>\n",
              "  </thead>\n",
              "  <tbody>\n",
              "    <tr>\n",
              "      <th>female</th>\n",
              "      <td>0.968085</td>\n",
              "      <td>0.921053</td>\n",
              "      <td>0.500000</td>\n",
              "    </tr>\n",
              "    <tr>\n",
              "      <th>male</th>\n",
              "      <td>0.368852</td>\n",
              "      <td>0.157407</td>\n",
              "      <td>0.135447</td>\n",
              "    </tr>\n",
              "  </tbody>\n",
              "</table>\n",
              "</div>"
            ],
            "text/plain": [
              "class      First    Second     Third\n",
              "sex                                 \n",
              "female  0.968085  0.921053  0.500000\n",
              "male    0.368852  0.157407  0.135447"
            ]
          },
          "execution_count": 118,
          "metadata": {},
          "output_type": "execute_result"
        }
      ],
      "source": [
        "#look at survival rate by sex and class\n",
        "titanic.pivot_table('survived', index = 'sex', columns = 'class')"
      ]
    },
    {
      "cell_type": "code",
      "execution_count": 119,
      "metadata": {
        "colab": {
          "base_uri": "https://localhost:8080/",
          "height": 298
        },
        "id": "L_900etiRU8X",
        "outputId": "1f743920-f151-4b03-eee3-bc4d272b4e35"
      },
      "outputs": [
        {
          "data": {
            "text/plain": [
              "<AxesSubplot:xlabel='sex'>"
            ]
          },
          "execution_count": 119,
          "metadata": {},
          "output_type": "execute_result"
        },
        {
          "data": {
            "image/png": "[encoded data removed]",
            "text/plain": [
              "<Figure size 432x288 with 1 Axes>"
            ]
          },
          "metadata": {
            "needs_background": "light"
          },
          "output_type": "display_data"
        }
      ],
      "source": [
        "#look at survival rate by sex and class visually\n",
        "titanic.pivot_table('survived', index = 'sex', columns = 'class').plot()"
      ]
    },
    {
      "cell_type": "code",
      "execution_count": 120,
      "metadata": {
        "colab": {
          "base_uri": "https://localhost:8080/",
          "height": 296
        },
        "id": "MHcspq35RjjB",
        "outputId": "798eea60-2b55-48e5-a439-853c98f95630"
      },
      "outputs": [
        {
          "data": {
            "text/plain": [
              "<AxesSubplot:xlabel='class', ylabel='survived'>"
            ]
          },
          "execution_count": 120,
          "metadata": {},
          "output_type": "execute_result"
        },
        {
          "data": {
            "image/png": "[encoded data removed]",
            "text/plain": [
              "<Figure size 432x288 with 1 Axes>"
            ]
          },
          "metadata": {
            "needs_background": "light"
          },
          "output_type": "display_data"
        }
      ],
      "source": [
        "#plot the survival rate of each class\n",
        "sns.barplot(x='class', y='survived', data = titanic)"
      ]
    },
    {
      "cell_type": "code",
      "execution_count": 121,
      "metadata": {
        "colab": {
          "base_uri": "https://localhost:8080/",
          "height": 206
        },
        "id": "nGJPLYusSMEz",
        "outputId": "13d9de36-1c5b-47db-ba48-992515d5ab61"
      },
      "outputs": [
        {
          "data": {
            "text/html": [
              "<div>\n",
              "<style scoped>\n",
              "    .dataframe tbody tr th:only-of-type {\n",
              "        vertical-align: middle;\n",
              "    }\n",
              "\n",
              "    .dataframe tbody tr th {\n",
              "        vertical-align: top;\n",
              "    }\n",
              "\n",
              "    .dataframe thead th {\n",
              "        text-align: right;\n",
              "    }\n",
              "</style>\n",
              "<table border=\"1\" class=\"dataframe\">\n",
              "  <thead>\n",
              "    <tr style=\"text-align: right;\">\n",
              "      <th></th>\n",
              "      <th>class</th>\n",
              "      <th>First</th>\n",
              "      <th>Second</th>\n",
              "      <th>Third</th>\n",
              "    </tr>\n",
              "    <tr>\n",
              "      <th>sex</th>\n",
              "      <th>age</th>\n",
              "      <th></th>\n",
              "      <th></th>\n",
              "      <th></th>\n",
              "    </tr>\n",
              "  </thead>\n",
              "  <tbody>\n",
              "    <tr>\n",
              "      <th rowspan=\"2\" valign=\"top\">female</th>\n",
              "      <th>(0, 18]</th>\n",
              "      <td>0.909091</td>\n",
              "      <td>1.000000</td>\n",
              "      <td>0.511628</td>\n",
              "    </tr>\n",
              "    <tr>\n",
              "      <th>(18, 80]</th>\n",
              "      <td>0.972973</td>\n",
              "      <td>0.900000</td>\n",
              "      <td>0.423729</td>\n",
              "    </tr>\n",
              "    <tr>\n",
              "      <th rowspan=\"2\" valign=\"top\">male</th>\n",
              "      <th>(0, 18]</th>\n",
              "      <td>0.800000</td>\n",
              "      <td>0.600000</td>\n",
              "      <td>0.215686</td>\n",
              "    </tr>\n",
              "    <tr>\n",
              "      <th>(18, 80]</th>\n",
              "      <td>0.375000</td>\n",
              "      <td>0.071429</td>\n",
              "      <td>0.133663</td>\n",
              "    </tr>\n",
              "  </tbody>\n",
              "</table>\n",
              "</div>"
            ],
            "text/plain": [
              "class               First    Second     Third\n",
              "sex    age                                   \n",
              "female (0, 18]   0.909091  1.000000  0.511628\n",
              "       (18, 80]  0.972973  0.900000  0.423729\n",
              "male   (0, 18]   0.800000  0.600000  0.215686\n",
              "       (18, 80]  0.375000  0.071429  0.133663"
            ]
          },
          "execution_count": 121,
          "metadata": {},
          "output_type": "execute_result"
        }
      ],
      "source": [
        "#look at survival rate by sex, age and class\n",
        "age = pd.cut(titanic['age'], [0,18,80])\n",
        "titanic.pivot_table('survived', ['sex', age], 'class')"
      ]
    },
    {
      "cell_type": "code",
      "execution_count": 122,
      "metadata": {
        "colab": {
          "base_uri": "https://localhost:8080/",
          "height": 295
        },
        "id": "KKNL1H5wS3z-",
        "outputId": "ef71561c-bf69-4330-fae2-a3619faa8cbf"
      },
      "outputs": [
        {
          "data": {
            "image/png": "[encoded data removed]",
            "text/plain": [
              "<Figure size 432x288 with 1 Axes>"
            ]
          },
          "metadata": {
            "needs_background": "light"
          },
          "output_type": "display_data"
        }
      ],
      "source": [
        "#plot the prices paid for each class\n",
        "plt.scatter(titanic['fare'], titanic['class'], color='purple', label = 'Passenger paid')\n",
        "plt.ylabel('Class')\n",
        "plt.xlabel('Prices/Fare')\n",
        "plt.title('Price paid by each class')\n",
        "plt.legend()\n",
        "plt.show()"
      ]
    },
    {
      "cell_type": "code",
      "execution_count": 123,
      "metadata": {
        "colab": {
          "base_uri": "https://localhost:8080/"
        },
        "id": "Mgq5zVgFVKsC",
        "outputId": "4e154d96-9e23-4dd3-a3c6-eb74c533415f"
      },
      "outputs": [
        {
          "data": {
            "text/plain": [
              "survived         0\n",
              "pclass           0\n",
              "sex              0\n",
              "age            177\n",
              "sibsp            0\n",
              "parch            0\n",
              "fare             0\n",
              "embarked         2\n",
              "class            0\n",
              "who              0\n",
              "adult_male       0\n",
              "deck           688\n",
              "embark_town      2\n",
              "alive            0\n",
              "alone            0\n",
              "dtype: int64"
            ]
          },
          "execution_count": 123,
          "metadata": {},
          "output_type": "execute_result"
        }
      ],
      "source": [
        "#count empty values in each column\n",
        "titanic.isna().sum()"
      ]
    },
    {
      "cell_type": "code",
      "execution_count": 124,
      "metadata": {
        "colab": {
          "base_uri": "https://localhost:8080/"
        },
        "id": "6OwXGytXVZ5P",
        "outputId": "e646e095-1689-4310-dfa4-b91f7690bb23"
      },
      "outputs": [
        {
          "name": "stdout",
          "output_type": "stream",
          "text": [
            "0    549\n",
            "1    342\n",
            "Name: survived, dtype: int64\n",
            "\n",
            "3    491\n",
            "1    216\n",
            "2    184\n",
            "Name: pclass, dtype: int64\n",
            "\n",
            "male      577\n",
            "female    314\n",
            "Name: sex, dtype: int64\n",
            "\n",
            "24.00    30\n",
            "22.00    27\n",
            "18.00    26\n",
            "19.00    25\n",
            "28.00    25\n",
            "         ..\n",
            "36.50     1\n",
            "55.50     1\n",
            "0.92      1\n",
            "23.50     1\n",
            "74.00     1\n",
            "Name: age, Length: 88, dtype: int64\n",
            "\n",
            "0    608\n",
            "1    209\n",
            "2     28\n",
            "4     18\n",
            "3     16\n",
            "8      7\n",
            "5      5\n",
            "Name: sibsp, dtype: int64\n",
            "\n",
            "0    678\n",
            "1    118\n",
            "2     80\n",
            "5      5\n",
            "3      5\n",
            "4      4\n",
            "6      1\n",
            "Name: parch, dtype: int64\n",
            "\n",
            "8.0500     43\n",
            "13.0000    42\n",
            "7.8958     38\n",
            "7.7500     34\n",
            "26.0000    31\n",
            "           ..\n",
            "35.0000     1\n",
            "28.5000     1\n",
            "6.2375      1\n",
            "14.0000     1\n",
            "10.5167     1\n",
            "Name: fare, Length: 248, dtype: int64\n",
            "\n",
            "S    644\n",
            "C    168\n",
            "Q     77\n",
            "Name: embarked, dtype: int64\n",
            "\n",
            "Third     491\n",
            "First     216\n",
            "Second    184\n",
            "Name: class, dtype: int64\n",
            "\n",
            "man      537\n",
            "woman    271\n",
            "child     83\n",
            "Name: who, dtype: int64\n",
            "\n",
            "True     537\n",
            "False    354\n",
            "Name: adult_male, dtype: int64\n",
            "\n",
            "C    59\n",
            "B    47\n",
            "D    33\n",
            "E    32\n",
            "A    15\n",
            "F    13\n",
            "G     4\n",
            "Name: deck, dtype: int64\n",
            "\n",
            "Southampton    644\n",
            "Cherbourg      168\n",
            "Queenstown      77\n",
            "Name: embark_town, dtype: int64\n",
            "\n",
            "no     549\n",
            "yes    342\n",
            "Name: alive, dtype: int64\n",
            "\n",
            "True     537\n",
            "False    354\n",
            "Name: alone, dtype: int64\n",
            "\n"
          ]
        }
      ],
      "source": [
        "#look at all the values in each column and get a count\n",
        "for val in titanic:\n",
        "  print(titanic[val].value_counts())\n",
        "  print()\n",
        "  "
      ]
    },
    {
      "cell_type": "code",
      "execution_count": 125,
      "metadata": {},
      "outputs": [
        {
          "data": {
            "text/plain": [
              "survived          int64\n",
              "pclass            int64\n",
              "sex              object\n",
              "age             float64\n",
              "sibsp             int64\n",
              "parch             int64\n",
              "fare            float64\n",
              "embarked         object\n",
              "class          category\n",
              "who              object\n",
              "adult_male         bool\n",
              "deck           category\n",
              "embark_town      object\n",
              "alive            object\n",
              "alone              bool\n",
              "dtype: object"
            ]
          },
          "execution_count": 125,
          "metadata": {},
          "output_type": "execute_result"
        }
      ],
      "source": [
        "titanic.dtypes"
      ]
    },
    {
      "cell_type": "code",
      "execution_count": 126,
      "metadata": {
        "id": "hB2eL7WRWCfl"
      },
      "outputs": [],
      "source": [
        "#remove rows with missing values\n",
        "titanic = titanic.dropna( subset = ['embarked', 'age'])\n"
      ]
    },
    {
      "cell_type": "code",
      "execution_count": 127,
      "metadata": {
        "id": "f7qul0N3XrKL"
      },
      "outputs": [],
      "source": [
        "#drop the columns\n",
        "titanic = titanic.drop(['deck', 'embark_town', 'alive', 'class', 'who', 'alone', 'adult_male'], axis=1)\n"
      ]
    },
    {
      "cell_type": "code",
      "execution_count": 128,
      "metadata": {
        "colab": {
          "base_uri": "https://localhost:8080/"
        },
        "id": "JMenoQ18YTZm",
        "outputId": "8f81859e-1781-463f-b320-2db452d04eb5"
      },
      "outputs": [
        {
          "data": {
            "text/plain": [
              "(712, 8)"
            ]
          },
          "execution_count": 128,
          "metadata": {},
          "output_type": "execute_result"
        }
      ],
      "source": [
        "#count the new number of rows and columns\n",
        "titanic.shape"
      ]
    },
    {
      "cell_type": "code",
      "execution_count": 129,
      "metadata": {
        "colab": {
          "base_uri": "https://localhost:8080/"
        },
        "id": "YLS2Tnx7YyRN",
        "outputId": "be7ba573-6619-456f-f771-bf96f5b88f87"
      },
      "outputs": [
        {
          "data": {
            "text/plain": [
              "survived      int64\n",
              "pclass        int64\n",
              "sex          object\n",
              "age         float64\n",
              "sibsp         int64\n",
              "parch         int64\n",
              "fare        float64\n",
              "embarked     object\n",
              "dtype: object"
            ]
          },
          "execution_count": 129,
          "metadata": {},
          "output_type": "execute_result"
        }
      ],
      "source": [
        "#look at the datatypes\n",
        "titanic.dtypes"
      ]
    },
    {
      "cell_type": "code",
      "execution_count": 130,
      "metadata": {
        "colab": {
          "base_uri": "https://localhost:8080/"
        },
        "id": "CC47v3bWZoFg",
        "outputId": "ac48314c-0794-4b37-d01e-e767cd180a3c"
      },
      "outputs": [
        {
          "name": "stdout",
          "output_type": "stream",
          "text": [
            "['male' 'female']\n",
            "['S' 'C' 'Q']\n"
          ]
        }
      ],
      "source": [
        "#print the unique values\n",
        "print(titanic['sex'].unique())\n",
        "print(titanic['embarked'].unique())"
      ]
    },
    {
      "cell_type": "code",
      "execution_count": 131,
      "metadata": {
        "id": "XoNxH-cPY70y"
      },
      "outputs": [],
      "source": [
        "from sklearn.preprocessing import LabelEncoder\n",
        "labelencoder = LabelEncoder()\n",
        "\n",
        "#encode the sex column\n",
        "titanic.iloc[:, 2] = labelencoder.fit_transform(titanic.iloc[:, 2].values)\n",
        "\n",
        "#encode the embarked column\n",
        "titanic.iloc[:, 7] = labelencoder.fit_transform(titanic.iloc[:, 7].values)"
      ]
    },
    {
      "cell_type": "code",
      "execution_count": 132,
      "metadata": {
        "colab": {
          "base_uri": "https://localhost:8080/"
        },
        "id": "m2HmSflmaMv8",
        "outputId": "602af3cd-31de-42d1-c3f7-3c70572511d3"
      },
      "outputs": [
        {
          "name": "stdout",
          "output_type": "stream",
          "text": [
            "[1 0]\n",
            "[2 0 1]\n"
          ]
        }
      ],
      "source": [
        "#print the transformed unique values\n",
        "print(titanic['sex'].unique())\n",
        "print(titanic['embarked'].unique())"
      ]
    },
    {
      "cell_type": "code",
      "execution_count": 133,
      "metadata": {
        "colab": {
          "base_uri": "https://localhost:8080/"
        },
        "id": "XW6EyQEHaRfY",
        "outputId": "5d996728-7310-4dcc-9d6e-38dd20a906ea"
      },
      "outputs": [
        {
          "data": {
            "text/plain": [
              "survived      int64\n",
              "pclass        int64\n",
              "sex           int32\n",
              "age         float64\n",
              "sibsp         int64\n",
              "parch         int64\n",
              "fare        float64\n",
              "embarked      int32\n",
              "dtype: object"
            ]
          },
          "execution_count": 133,
          "metadata": {},
          "output_type": "execute_result"
        }
      ],
      "source": [
        "#now all the values are numerical values\n",
        "titanic.dtypes"
      ]
    },
    {
      "cell_type": "code",
      "execution_count": 134,
      "metadata": {
        "id": "6B56DPNhaU0M"
      },
      "outputs": [],
      "source": [
        "#split the data into independent 'X' and dependent 'Y' variables\n",
        "X = titanic.iloc[:, 1:8].values\n",
        "Y = titanic.iloc[:, 0].values"
      ]
    },
    {
      "cell_type": "code",
      "execution_count": 135,
      "metadata": {
        "id": "I8KU2N_Oc0CR"
      },
      "outputs": [],
      "source": [
        "#split the dataset into 80% training and 20% testing\n",
        "from sklearn.model_selection import train_test_split\n",
        "X_train, X_test, Y_train, Y_test = train_test_split(X, Y, test_size = 0.2, random_state = 0)"
      ]
    },
    {
      "cell_type": "code",
      "execution_count": 136,
      "metadata": {
        "id": "deBBvlAOa3v1"
      },
      "outputs": [],
      "source": [
        "#scale the data\n",
        "from sklearn.preprocessing import StandardScaler\n",
        "sc = StandardScaler()\n",
        "X_train = sc.fit_transform(X_train)\n",
        "X_test = sc.fit_transform(X_test)"
      ]
    },
    {
      "cell_type": "code",
      "execution_count": 137,
      "metadata": {
        "id": "m9liE6pBdxXc"
      },
      "outputs": [],
      "source": [
        "#create a function with many training models\n",
        "def models(X_train, Y_train):\n",
        "\n",
        "  #use logistic regression\n",
        "  from sklearn.linear_model import LogisticRegression\n",
        "  log = LogisticRegression(random_state = 0)\n",
        "  log.fit(X_train, Y_train)\n",
        "\n",
        "  #use KNeighbors\n",
        "  from sklearn.neighbors import KNeighborsClassifier\n",
        "  knn = KNeighborsClassifier(n_neighbors = 5, metric = 'minkowski', p = 2)\n",
        "  knn.fit(X_train, Y_train)\n",
        "\n",
        "  #use SVC (linear kernel)\n",
        "  from sklearn.svm import SVC\n",
        "  svc_lin = SVC(kernel = 'linear', random_state = 0)\n",
        "  svc_lin.fit(X_train, Y_train)\n",
        "\n",
        "  #use SVC(RBF kernel)\n",
        "  from sklearn.svm import SVC\n",
        "  svc_rbf = SVC(kernel = 'rbf', random_state = 0)\n",
        "  svc_rbf.fit(X_train, Y_train)\n",
        "\n",
        "  #use GaussianNB\n",
        "  from sklearn.naive_bayes import GaussianNB\n",
        "  gauss = GaussianNB()\n",
        "  gauss.fit(X_train, Y_train)\n",
        "\n",
        "  #use Decision Tree\n",
        "  from sklearn.tree import DecisionTreeClassifier\n",
        "  tree = DecisionTreeClassifier(criterion = 'entropy', random_state = 0)\n",
        "  tree.fit(X_train, Y_train)\n",
        "\n",
        "  #use the RandomForestClassifier\n",
        "  from sklearn.ensemble import RandomForestClassifier\n",
        "  forest = RandomForestClassifier(n_estimators = 10, criterion = 'entropy', random_state = 0)\n",
        "  forest.fit(X_train, Y_train)\n",
        "  \n",
        "  #print the training accuracy for each model\n",
        "  print('[0]Logistic Regression Training Accuracy: ', log.score(X_train, Y_train))\n",
        "  print('[1]K Neighbors Training Accuracy: ', knn.score(X_train, Y_train))\n",
        "  print('[2]SVC Linear Training Accuracy: ', svc_lin.score(X_train, Y_train))\n",
        "  print('[3]SVC RBF Training Accuracy: ', svc_rbf.score(X_train, Y_train))\n",
        "  print('[4]Gaussian NB Training Accuracy: ', gauss.score(X_train, Y_train))\n",
        "  print('[5]Decision Tree Training Accuracy: ', tree.score(X_train, Y_train))\n",
        "  print('[6]Random Forest Training Accuracy: ', forest.score(X_train, Y_train))\n",
        "\n",
        "  return log, knn, svc_lin, svc_rbf, gauss, tree, forest\n",
        "\n"
      ]
    },
    {
      "cell_type": "code",
      "execution_count": 138,
      "metadata": {
        "colab": {
          "base_uri": "https://localhost:8080/"
        },
        "id": "U_s0vG5DiUYB",
        "outputId": "1dbbb7a6-9958-421f-9994-7e4c76b496d2"
      },
      "outputs": [
        {
          "name": "stdout",
          "output_type": "stream",
          "text": [
            "[0]Logistic Regression Training Accuracy:  0.7978910369068541\n",
            "[1]K Neighbors Training Accuracy:  0.8664323374340949\n",
            "[2]SVC Linear Training Accuracy:  0.7768014059753954\n",
            "[3]SVC RBF Training Accuracy:  0.8506151142355008\n",
            "[4]Gaussian NB Training Accuracy:  0.8031634446397188\n",
            "[5]Decision Tree Training Accuracy:  0.9929701230228472\n",
            "[6]Random Forest Training Accuracy:  0.9753954305799648\n"
          ]
        }
      ],
      "source": [
        "#get and train all of the models\n",
        "model = models(X_train, Y_train)\n"
      ]
    },
    {
      "cell_type": "code",
      "execution_count": 139,
      "metadata": {
        "colab": {
          "base_uri": "https://localhost:8080/"
        },
        "id": "yBhs8fyaihRP",
        "outputId": "662fc7d9-c096-40b0-c3df-54cd23255ac7"
      },
      "outputs": [
        {
          "name": "stdout",
          "output_type": "stream",
          "text": [
            "[[75  7]\n",
            " [19 42]]\n",
            "Model[0] Testing Accuracy = \"0.8181818181818182\"\n",
            "\n",
            "[[67 15]\n",
            " [20 41]]\n",
            "Model[1] Testing Accuracy = \"0.7552447552447552\"\n",
            "\n",
            "[[70 12]\n",
            " [18 43]]\n",
            "Model[2] Testing Accuracy = \"0.7902097902097902\"\n",
            "\n",
            "[[75  7]\n",
            " [22 39]]\n",
            "Model[3] Testing Accuracy = \"0.7972027972027972\"\n",
            "\n",
            "[[69 13]\n",
            " [27 34]]\n",
            "Model[4] Testing Accuracy = \"0.7202797202797203\"\n",
            "\n",
            "[[54 28]\n",
            " [12 49]]\n",
            "Model[5] Testing Accuracy = \"0.7202797202797203\"\n",
            "\n",
            "[[73  9]\n",
            " [14 47]]\n",
            "Model[6] Testing Accuracy = \"0.8391608391608392\"\n",
            "\n"
          ]
        }
      ],
      "source": [
        "#show the confusion matrix and accuracy for all the models on the test data\n",
        "from sklearn.metrics import confusion_matrix\n",
        "\n",
        "for i in range(len(model)):\n",
        "  cm = confusion_matrix(Y_test, model[i].predict(X_test))\n",
        "\n",
        "  #extract TN, FP, FN, TP\n",
        "  TN, FP, FN, TP = confusion_matrix(Y_test, model[i].predict(X_test)).ravel()\n",
        "\n",
        "  test_score = (TP + TN) / (TP + TN + FN + FP)\n",
        "\n",
        "  print(cm)\n",
        "  print('Model[{}] Testing Accuracy = \"{}\"'. format(i, test_score))\n",
        "  print()"
      ]
    },
    {
      "cell_type": "code",
      "execution_count": 140,
      "metadata": {
        "colab": {
          "base_uri": "https://localhost:8080/",
          "height": 300
        },
        "id": "USh6-k8LjslA",
        "outputId": "f1a594fb-3b71-475a-e8c0-cedb7817e81d"
      },
      "outputs": [
        {
          "data": {
            "text/html": [
              "<div>\n",
              "<style scoped>\n",
              "    .dataframe tbody tr th:only-of-type {\n",
              "        vertical-align: middle;\n",
              "    }\n",
              "\n",
              "    .dataframe tbody tr th {\n",
              "        vertical-align: top;\n",
              "    }\n",
              "\n",
              "    .dataframe thead th {\n",
              "        text-align: right;\n",
              "    }\n",
              "</style>\n",
              "<table border=\"1\" class=\"dataframe\">\n",
              "  <thead>\n",
              "    <tr style=\"text-align: right;\">\n",
              "      <th></th>\n",
              "      <th>importance</th>\n",
              "    </tr>\n",
              "    <tr>\n",
              "      <th>feature</th>\n",
              "      <th></th>\n",
              "    </tr>\n",
              "  </thead>\n",
              "  <tbody>\n",
              "    <tr>\n",
              "      <th>age</th>\n",
              "      <td>0.300</td>\n",
              "    </tr>\n",
              "    <tr>\n",
              "      <th>fare</th>\n",
              "      <td>0.296</td>\n",
              "    </tr>\n",
              "    <tr>\n",
              "      <th>sex</th>\n",
              "      <td>0.183</td>\n",
              "    </tr>\n",
              "    <tr>\n",
              "      <th>pclass</th>\n",
              "      <td>0.098</td>\n",
              "    </tr>\n",
              "    <tr>\n",
              "      <th>sibsp</th>\n",
              "      <td>0.050</td>\n",
              "    </tr>\n",
              "    <tr>\n",
              "      <th>parch</th>\n",
              "      <td>0.044</td>\n",
              "    </tr>\n",
              "    <tr>\n",
              "      <th>embarked</th>\n",
              "      <td>0.030</td>\n",
              "    </tr>\n",
              "  </tbody>\n",
              "</table>\n",
              "</div>"
            ],
            "text/plain": [
              "          importance\n",
              "feature             \n",
              "age            0.300\n",
              "fare           0.296\n",
              "sex            0.183\n",
              "pclass         0.098\n",
              "sibsp          0.050\n",
              "parch          0.044\n",
              "embarked       0.030"
            ]
          },
          "execution_count": 140,
          "metadata": {},
          "output_type": "execute_result"
        }
      ],
      "source": [
        "#get feature importance\n",
        "forest = model[6]\n",
        "importances = pd.DataFrame({'feature': titanic.iloc[:, 1:8].columns, 'importance': np.round(forest.feature_importances_, 3) })\n",
        "importances = importances.sort_values('importance', ascending=False).set_index('feature')\n",
        "importances"
      ]
    },
    {
      "cell_type": "code",
      "execution_count": 141,
      "metadata": {
        "colab": {
          "base_uri": "https://localhost:8080/",
          "height": 336
        },
        "id": "a-Z81a-2lIz5",
        "outputId": "266b0bc0-dacb-4919-e1b5-c70d3f4b4fac"
      },
      "outputs": [
        {
          "data": {
            "text/plain": [
              "<AxesSubplot:xlabel='feature'>"
            ]
          },
          "execution_count": 141,
          "metadata": {},
          "output_type": "execute_result"
        },
        {
          "data": {
            "image/png": "[encoded data removed]",
            "text/plain": [
              "<Figure size 432x288 with 1 Axes>"
            ]
          },
          "metadata": {
            "needs_background": "light"
          },
          "output_type": "display_data"
        }
      ],
      "source": [
        "#visulaize the importance\n",
        "importances.plot.bar()"
      ]
    },
    {
      "cell_type": "code",
      "execution_count": 142,
      "metadata": {
        "colab": {
          "base_uri": "https://localhost:8080/"
        },
        "id": "Iqkun6rZlN1Q",
        "outputId": "d561f228-7577-471c-a57c-b8005c09db0b"
      },
      "outputs": [
        {
          "name": "stdout",
          "output_type": "stream",
          "text": [
            "[1 0 1 0 0 0 1 0 0 1 1 1 1 0 0 1 0 1 0 0 1 1 1 1 0 0 0 0 0 0 0 0 0 1 1 1 1\n",
            " 0 0 1 0 0 0 0 0 0 1 0 0 1 1 0 1 0 1 0 0 0 1 1 0 0 0 1 0 0 1 0 1 1 0 1 1 1\n",
            " 0 0 1 0 0 0 0 1 0 1 1 0 0 0 1 0 0 0 1 1 1 0 1 1 0 0 0 1 0 0 1 0 1 0 0 0 0\n",
            " 1 1 0 0 0 0 0 0 0 0 0 0 1 0 0 0 0 0 1 0 1 1 1 1 1 1 0 0 0 0 0 1]\n",
            "\n",
            "[0 0 1 0 0 0 1 0 0 0 1 1 1 0 0 1 0 1 1 0 0 1 1 1 0 0 0 0 1 0 0 0 0 1 1 0 1\n",
            " 1 1 1 1 1 0 0 0 0 1 0 0 1 1 0 1 0 0 0 0 0 1 0 0 0 0 1 0 0 1 1 0 1 0 1 1 1\n",
            " 0 0 1 1 0 0 0 1 1 1 1 0 0 0 1 0 0 0 1 1 1 0 1 1 0 1 0 1 0 0 0 0 1 0 0 0 0\n",
            " 1 1 1 0 0 1 0 0 1 0 0 0 0 0 0 0 0 0 1 1 1 1 1 1 1 1 0 0 0 0 0 1]\n"
          ]
        }
      ],
      "source": [
        "#print the prediction of the random forest classifier\n",
        "pred = model[6].predict(X_test)\n",
        "print(pred)\n",
        "\n",
        "print()\n",
        "\n",
        "#print the actual values\n",
        "print(Y_test)"
      ]
    },
    {
      "cell_type": "code",
      "execution_count": 143,
      "metadata": {
        "colab": {
          "base_uri": "https://localhost:8080/"
        },
        "id": "m-52PncElmBd",
        "outputId": "a29818cc-b3eb-492b-eead-d71d29bb2513"
      },
      "outputs": [
        {
          "name": "stdout",
          "output_type": "stream",
          "text": [
            "[0]\n",
            "Oh no! You did not make it.\n"
          ]
        }
      ],
      "source": [
        "#my survival\n",
        "my_survival = [[3, 1, 21, 8, 6, 200, 0]]\n",
        "\n",
        "#scaling my survival\n",
        "from sklearn.preprocessing import StandardScaler\n",
        "sc = StandardScaler()\n",
        "my_survival_scaled = sc.fit_transform(my_survival)\n",
        "\n",
        "#print prediction using RandomForestClassifier\n",
        "pred = model[6].predict(my_survival_scaled)\n",
        "print(pred)\n",
        "\n",
        "if pred==0:\n",
        "  print('Oh no! You did not make it.')\n",
        "else:\n",
        "  print('Nice! You survived!')"
      ]
    }
  ],
  "metadata": {
    "colab": {
      "name": "titanicDatasetAnalysis.ipynb",
      "provenance": []
    },
    "kernelspec": {
      "display_name": "Python 3",
      "name": "python3"
    },
    "language_info": {
      "codemirror_mode": {
        "name": "ipython",
        "version": 3
      },
      "file_extension": ".py",
      "mimetype": "text/x-python",
      "name": "python",
      "nbconvert_exporter": "python",
      "pygments_lexer": "ipython3",
      "version": "3.10.2"
    }
  },
  "nbformat": 4,
  "nbformat_minor": 0
}
